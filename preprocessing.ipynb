{
 "cells": [
  {
   "cell_type": "code",
   "execution_count": 1,
   "id": "236bcc72",
   "metadata": {},
   "outputs": [],
   "source": [
    "import pandas as pd\n",
    "import numpy as np\n",
    "import os\n",
    "from elo import add_elos"
   ]
  },
  {
   "cell_type": "code",
   "execution_count": 2,
   "id": "b69c4a0d",
   "metadata": {},
   "outputs": [
    {
     "ename": "KeyboardInterrupt",
     "evalue": "",
     "output_type": "error",
     "traceback": [
      "\u001b[31m---------------------------------------------------------------------------\u001b[39m",
      "\u001b[31mKeyboardInterrupt\u001b[39m                         Traceback (most recent call last)",
      "\u001b[36mCell\u001b[39m\u001b[36m \u001b[39m\u001b[32mIn[2]\u001b[39m\u001b[32m, line 4\u001b[39m\n\u001b[32m      2\u001b[39m path = os.path.join(os.getcwd(), \u001b[33m\"\u001b[39m\u001b[33mmatch data\u001b[39m\u001b[33m\"\u001b[39m)\n\u001b[32m      3\u001b[39m cols = [\u001b[33m'\u001b[39m\u001b[33mDate\u001b[39m\u001b[33m'\u001b[39m, \u001b[33m'\u001b[39m\u001b[33mSeries\u001b[39m\u001b[33m'\u001b[39m, \u001b[33m'\u001b[39m\u001b[33mCourt\u001b[39m\u001b[33m'\u001b[39m, \u001b[33m'\u001b[39m\u001b[33mSurface\u001b[39m\u001b[33m'\u001b[39m, \u001b[33m'\u001b[39m\u001b[33mRound\u001b[39m\u001b[33m'\u001b[39m, \u001b[33m'\u001b[39m\u001b[33mBest of\u001b[39m\u001b[33m'\u001b[39m, \u001b[33m'\u001b[39m\u001b[33mWinner\u001b[39m\u001b[33m'\u001b[39m, \u001b[33m'\u001b[39m\u001b[33mLoser\u001b[39m\u001b[33m'\u001b[39m, \u001b[33m'\u001b[39m\u001b[33mWRank\u001b[39m\u001b[33m'\u001b[39m, \u001b[33m'\u001b[39m\u001b[33mLRank\u001b[39m\u001b[33m'\u001b[39m, \u001b[33m'\u001b[39m\u001b[33mWPts\u001b[39m\u001b[33m'\u001b[39m, \u001b[33m'\u001b[39m\u001b[33mLPts\u001b[39m\u001b[33m'\u001b[39m,\u001b[33m'\u001b[39m\u001b[33mComment\u001b[39m\u001b[33m'\u001b[39m,\u001b[33m'\u001b[39m\u001b[33mB365W\u001b[39m\u001b[33m'\u001b[39m,\u001b[33m'\u001b[39m\u001b[33mB365L\u001b[39m\u001b[33m'\u001b[39m,\u001b[33m'\u001b[39m\u001b[33mPSW\u001b[39m\u001b[33m'\u001b[39m,\u001b[33m'\u001b[39m\u001b[33mPSL\u001b[39m\u001b[33m'\u001b[39m]\n\u001b[32m----> \u001b[39m\u001b[32m4\u001b[39m df_list = [\u001b[43mpd\u001b[49m\u001b[43m.\u001b[49m\u001b[43mread_excel\u001b[49m\u001b[43m(\u001b[49m\u001b[43mos\u001b[49m\u001b[43m.\u001b[49m\u001b[43mpath\u001b[49m\u001b[43m.\u001b[49m\u001b[43mjoin\u001b[49m\u001b[43m(\u001b[49m\u001b[43mpath\u001b[49m\u001b[43m,\u001b[49m\u001b[43m \u001b[49m\u001b[43mfile\u001b[49m\u001b[43m)\u001b[49m\u001b[43m)\u001b[49m.reindex(columns=cols) \u001b[38;5;28;01mfor\u001b[39;00m file \u001b[38;5;129;01min\u001b[39;00m os.listdir(path)]\n\u001b[32m      5\u001b[39m df = pd.concat(df_list, ignore_index=\u001b[38;5;28;01mTrue\u001b[39;00m)\n",
      "\u001b[36mFile \u001b[39m\u001b[32mc:\\Users\\olive\\AppData\\Local\\Programs\\Python\\Python313\\Lib\\site-packages\\pandas\\io\\excel\\_base.py:495\u001b[39m, in \u001b[36mread_excel\u001b[39m\u001b[34m(io, sheet_name, header, names, index_col, usecols, dtype, engine, converters, true_values, false_values, skiprows, nrows, na_values, keep_default_na, na_filter, verbose, parse_dates, date_parser, date_format, thousands, decimal, comment, skipfooter, storage_options, dtype_backend, engine_kwargs)\u001b[39m\n\u001b[32m    493\u001b[39m \u001b[38;5;28;01mif\u001b[39;00m \u001b[38;5;129;01mnot\u001b[39;00m \u001b[38;5;28misinstance\u001b[39m(io, ExcelFile):\n\u001b[32m    494\u001b[39m     should_close = \u001b[38;5;28;01mTrue\u001b[39;00m\n\u001b[32m--> \u001b[39m\u001b[32m495\u001b[39m     io = \u001b[43mExcelFile\u001b[49m\u001b[43m(\u001b[49m\n\u001b[32m    496\u001b[39m \u001b[43m        \u001b[49m\u001b[43mio\u001b[49m\u001b[43m,\u001b[49m\n\u001b[32m    497\u001b[39m \u001b[43m        \u001b[49m\u001b[43mstorage_options\u001b[49m\u001b[43m=\u001b[49m\u001b[43mstorage_options\u001b[49m\u001b[43m,\u001b[49m\n\u001b[32m    498\u001b[39m \u001b[43m        \u001b[49m\u001b[43mengine\u001b[49m\u001b[43m=\u001b[49m\u001b[43mengine\u001b[49m\u001b[43m,\u001b[49m\n\u001b[32m    499\u001b[39m \u001b[43m        \u001b[49m\u001b[43mengine_kwargs\u001b[49m\u001b[43m=\u001b[49m\u001b[43mengine_kwargs\u001b[49m\u001b[43m,\u001b[49m\n\u001b[32m    500\u001b[39m \u001b[43m    \u001b[49m\u001b[43m)\u001b[49m\n\u001b[32m    501\u001b[39m \u001b[38;5;28;01melif\u001b[39;00m engine \u001b[38;5;129;01mand\u001b[39;00m engine != io.engine:\n\u001b[32m    502\u001b[39m     \u001b[38;5;28;01mraise\u001b[39;00m \u001b[38;5;167;01mValueError\u001b[39;00m(\n\u001b[32m    503\u001b[39m         \u001b[33m\"\u001b[39m\u001b[33mEngine should not be specified when passing \u001b[39m\u001b[33m\"\u001b[39m\n\u001b[32m    504\u001b[39m         \u001b[33m\"\u001b[39m\u001b[33man ExcelFile - ExcelFile already has the engine set\u001b[39m\u001b[33m\"\u001b[39m\n\u001b[32m    505\u001b[39m     )\n",
      "\u001b[36mFile \u001b[39m\u001b[32mc:\\Users\\olive\\AppData\\Local\\Programs\\Python\\Python313\\Lib\\site-packages\\pandas\\io\\excel\\_base.py:1567\u001b[39m, in \u001b[36mExcelFile.__init__\u001b[39m\u001b[34m(self, path_or_buffer, engine, storage_options, engine_kwargs)\u001b[39m\n\u001b[32m   1564\u001b[39m \u001b[38;5;28mself\u001b[39m.engine = engine\n\u001b[32m   1565\u001b[39m \u001b[38;5;28mself\u001b[39m.storage_options = storage_options\n\u001b[32m-> \u001b[39m\u001b[32m1567\u001b[39m \u001b[38;5;28mself\u001b[39m._reader = \u001b[38;5;28;43mself\u001b[39;49m\u001b[43m.\u001b[49m\u001b[43m_engines\u001b[49m\u001b[43m[\u001b[49m\u001b[43mengine\u001b[49m\u001b[43m]\u001b[49m\u001b[43m(\u001b[49m\n\u001b[32m   1568\u001b[39m \u001b[43m    \u001b[49m\u001b[38;5;28;43mself\u001b[39;49m\u001b[43m.\u001b[49m\u001b[43m_io\u001b[49m\u001b[43m,\u001b[49m\n\u001b[32m   1569\u001b[39m \u001b[43m    \u001b[49m\u001b[43mstorage_options\u001b[49m\u001b[43m=\u001b[49m\u001b[43mstorage_options\u001b[49m\u001b[43m,\u001b[49m\n\u001b[32m   1570\u001b[39m \u001b[43m    \u001b[49m\u001b[43mengine_kwargs\u001b[49m\u001b[43m=\u001b[49m\u001b[43mengine_kwargs\u001b[49m\u001b[43m,\u001b[49m\n\u001b[32m   1571\u001b[39m \u001b[43m\u001b[49m\u001b[43m)\u001b[49m\n",
      "\u001b[36mFile \u001b[39m\u001b[32mc:\\Users\\olive\\AppData\\Local\\Programs\\Python\\Python313\\Lib\\site-packages\\pandas\\io\\excel\\_xlrd.py:46\u001b[39m, in \u001b[36mXlrdReader.__init__\u001b[39m\u001b[34m(self, filepath_or_buffer, storage_options, engine_kwargs)\u001b[39m\n\u001b[32m     44\u001b[39m err_msg = \u001b[33m\"\u001b[39m\u001b[33mInstall xlrd >= 2.0.1 for xls Excel support\u001b[39m\u001b[33m\"\u001b[39m\n\u001b[32m     45\u001b[39m import_optional_dependency(\u001b[33m\"\u001b[39m\u001b[33mxlrd\u001b[39m\u001b[33m\"\u001b[39m, extra=err_msg)\n\u001b[32m---> \u001b[39m\u001b[32m46\u001b[39m \u001b[38;5;28;43msuper\u001b[39;49m\u001b[43m(\u001b[49m\u001b[43m)\u001b[49m\u001b[43m.\u001b[49m\u001b[34;43m__init__\u001b[39;49m\u001b[43m(\u001b[49m\n\u001b[32m     47\u001b[39m \u001b[43m    \u001b[49m\u001b[43mfilepath_or_buffer\u001b[49m\u001b[43m,\u001b[49m\n\u001b[32m     48\u001b[39m \u001b[43m    \u001b[49m\u001b[43mstorage_options\u001b[49m\u001b[43m=\u001b[49m\u001b[43mstorage_options\u001b[49m\u001b[43m,\u001b[49m\n\u001b[32m     49\u001b[39m \u001b[43m    \u001b[49m\u001b[43mengine_kwargs\u001b[49m\u001b[43m=\u001b[49m\u001b[43mengine_kwargs\u001b[49m\u001b[43m,\u001b[49m\n\u001b[32m     50\u001b[39m \u001b[43m\u001b[49m\u001b[43m)\u001b[49m\n",
      "\u001b[36mFile \u001b[39m\u001b[32mc:\\Users\\olive\\AppData\\Local\\Programs\\Python\\Python313\\Lib\\site-packages\\pandas\\io\\excel\\_base.py:573\u001b[39m, in \u001b[36mBaseExcelReader.__init__\u001b[39m\u001b[34m(self, filepath_or_buffer, storage_options, engine_kwargs)\u001b[39m\n\u001b[32m    571\u001b[39m \u001b[38;5;28mself\u001b[39m.handles.handle.seek(\u001b[32m0\u001b[39m)\n\u001b[32m    572\u001b[39m \u001b[38;5;28;01mtry\u001b[39;00m:\n\u001b[32m--> \u001b[39m\u001b[32m573\u001b[39m     \u001b[38;5;28mself\u001b[39m.book = \u001b[38;5;28;43mself\u001b[39;49m\u001b[43m.\u001b[49m\u001b[43mload_workbook\u001b[49m\u001b[43m(\u001b[49m\u001b[38;5;28;43mself\u001b[39;49m\u001b[43m.\u001b[49m\u001b[43mhandles\u001b[49m\u001b[43m.\u001b[49m\u001b[43mhandle\u001b[49m\u001b[43m,\u001b[49m\u001b[43m \u001b[49m\u001b[43mengine_kwargs\u001b[49m\u001b[43m)\u001b[49m\n\u001b[32m    574\u001b[39m \u001b[38;5;28;01mexcept\u001b[39;00m \u001b[38;5;167;01mException\u001b[39;00m:\n\u001b[32m    575\u001b[39m     \u001b[38;5;28mself\u001b[39m.close()\n",
      "\u001b[36mFile \u001b[39m\u001b[32mc:\\Users\\olive\\AppData\\Local\\Programs\\Python\\Python313\\Lib\\site-packages\\pandas\\io\\excel\\_xlrd.py:63\u001b[39m, in \u001b[36mXlrdReader.load_workbook\u001b[39m\u001b[34m(self, filepath_or_buffer, engine_kwargs)\u001b[39m\n\u001b[32m     61\u001b[39m \u001b[38;5;28;01mif\u001b[39;00m \u001b[38;5;28mhasattr\u001b[39m(filepath_or_buffer, \u001b[33m\"\u001b[39m\u001b[33mread\u001b[39m\u001b[33m\"\u001b[39m):\n\u001b[32m     62\u001b[39m     data = filepath_or_buffer.read()\n\u001b[32m---> \u001b[39m\u001b[32m63\u001b[39m     \u001b[38;5;28;01mreturn\u001b[39;00m \u001b[43mopen_workbook\u001b[49m\u001b[43m(\u001b[49m\u001b[43mfile_contents\u001b[49m\u001b[43m=\u001b[49m\u001b[43mdata\u001b[49m\u001b[43m,\u001b[49m\u001b[43m \u001b[49m\u001b[43m*\u001b[49m\u001b[43m*\u001b[49m\u001b[43mengine_kwargs\u001b[49m\u001b[43m)\u001b[49m\n\u001b[32m     64\u001b[39m \u001b[38;5;28;01melse\u001b[39;00m:\n\u001b[32m     65\u001b[39m     \u001b[38;5;28;01mreturn\u001b[39;00m open_workbook(filepath_or_buffer, **engine_kwargs)\n",
      "\u001b[36mFile \u001b[39m\u001b[32mc:\\Users\\olive\\AppData\\Local\\Programs\\Python\\Python313\\Lib\\site-packages\\xlrd\\__init__.py:172\u001b[39m, in \u001b[36mopen_workbook\u001b[39m\u001b[34m(filename, logfile, verbosity, use_mmap, file_contents, encoding_override, formatting_info, on_demand, ragged_rows, ignore_workbook_corruption)\u001b[39m\n\u001b[32m    169\u001b[39m \u001b[38;5;28;01mif\u001b[39;00m file_format \u001b[38;5;129;01mand\u001b[39;00m file_format != \u001b[33m'\u001b[39m\u001b[33mxls\u001b[39m\u001b[33m'\u001b[39m:\n\u001b[32m    170\u001b[39m     \u001b[38;5;28;01mraise\u001b[39;00m XLRDError(FILE_FORMAT_DESCRIPTIONS[file_format]+\u001b[33m'\u001b[39m\u001b[33m; not supported\u001b[39m\u001b[33m'\u001b[39m)\n\u001b[32m--> \u001b[39m\u001b[32m172\u001b[39m bk = \u001b[43mopen_workbook_xls\u001b[49m\u001b[43m(\u001b[49m\n\u001b[32m    173\u001b[39m \u001b[43m    \u001b[49m\u001b[43mfilename\u001b[49m\u001b[43m=\u001b[49m\u001b[43mfilename\u001b[49m\u001b[43m,\u001b[49m\n\u001b[32m    174\u001b[39m \u001b[43m    \u001b[49m\u001b[43mlogfile\u001b[49m\u001b[43m=\u001b[49m\u001b[43mlogfile\u001b[49m\u001b[43m,\u001b[49m\n\u001b[32m    175\u001b[39m \u001b[43m    \u001b[49m\u001b[43mverbosity\u001b[49m\u001b[43m=\u001b[49m\u001b[43mverbosity\u001b[49m\u001b[43m,\u001b[49m\n\u001b[32m    176\u001b[39m \u001b[43m    \u001b[49m\u001b[43muse_mmap\u001b[49m\u001b[43m=\u001b[49m\u001b[43muse_mmap\u001b[49m\u001b[43m,\u001b[49m\n\u001b[32m    177\u001b[39m \u001b[43m    \u001b[49m\u001b[43mfile_contents\u001b[49m\u001b[43m=\u001b[49m\u001b[43mfile_contents\u001b[49m\u001b[43m,\u001b[49m\n\u001b[32m    178\u001b[39m \u001b[43m    \u001b[49m\u001b[43mencoding_override\u001b[49m\u001b[43m=\u001b[49m\u001b[43mencoding_override\u001b[49m\u001b[43m,\u001b[49m\n\u001b[32m    179\u001b[39m \u001b[43m    \u001b[49m\u001b[43mformatting_info\u001b[49m\u001b[43m=\u001b[49m\u001b[43mformatting_info\u001b[49m\u001b[43m,\u001b[49m\n\u001b[32m    180\u001b[39m \u001b[43m    \u001b[49m\u001b[43mon_demand\u001b[49m\u001b[43m=\u001b[49m\u001b[43mon_demand\u001b[49m\u001b[43m,\u001b[49m\n\u001b[32m    181\u001b[39m \u001b[43m    \u001b[49m\u001b[43mragged_rows\u001b[49m\u001b[43m=\u001b[49m\u001b[43mragged_rows\u001b[49m\u001b[43m,\u001b[49m\n\u001b[32m    182\u001b[39m \u001b[43m    \u001b[49m\u001b[43mignore_workbook_corruption\u001b[49m\u001b[43m=\u001b[49m\u001b[43mignore_workbook_corruption\u001b[49m\u001b[43m,\u001b[49m\n\u001b[32m    183\u001b[39m \u001b[43m\u001b[49m\u001b[43m)\u001b[49m\n\u001b[32m    185\u001b[39m \u001b[38;5;28;01mreturn\u001b[39;00m bk\n",
      "\u001b[36mFile \u001b[39m\u001b[32mc:\\Users\\olive\\AppData\\Local\\Programs\\Python\\Python313\\Lib\\site-packages\\xlrd\\book.py:107\u001b[39m, in \u001b[36mopen_workbook_xls\u001b[39m\u001b[34m(filename, logfile, verbosity, use_mmap, file_contents, encoding_override, formatting_info, on_demand, ragged_rows, ignore_workbook_corruption)\u001b[39m\n\u001b[32m    105\u001b[39m     bk._sheet_list = [\u001b[38;5;28;01mNone\u001b[39;00m \u001b[38;5;28;01mfor\u001b[39;00m sh \u001b[38;5;129;01min\u001b[39;00m bk._sheet_names]\n\u001b[32m    106\u001b[39m     \u001b[38;5;28;01mif\u001b[39;00m \u001b[38;5;129;01mnot\u001b[39;00m on_demand:\n\u001b[32m--> \u001b[39m\u001b[32m107\u001b[39m         \u001b[43mbk\u001b[49m\u001b[43m.\u001b[49m\u001b[43mget_sheets\u001b[49m\u001b[43m(\u001b[49m\u001b[43m)\u001b[49m\n\u001b[32m    108\u001b[39m bk.nsheets = \u001b[38;5;28mlen\u001b[39m(bk._sheet_list)\n\u001b[32m    109\u001b[39m \u001b[38;5;28;01mif\u001b[39;00m biff_version == \u001b[32m45\u001b[39m \u001b[38;5;129;01mand\u001b[39;00m bk.nsheets > \u001b[32m1\u001b[39m:\n",
      "\u001b[36mFile \u001b[39m\u001b[32mc:\\Users\\olive\\AppData\\Local\\Programs\\Python\\Python313\\Lib\\site-packages\\xlrd\\book.py:722\u001b[39m, in \u001b[36mBook.get_sheets\u001b[39m\u001b[34m(self)\u001b[39m\n\u001b[32m    720\u001b[39m \u001b[38;5;28;01mfor\u001b[39;00m sheetno \u001b[38;5;129;01min\u001b[39;00m xrange(\u001b[38;5;28mlen\u001b[39m(\u001b[38;5;28mself\u001b[39m._sheet_names)):\n\u001b[32m    721\u001b[39m     \u001b[38;5;28;01mif\u001b[39;00m DEBUG: \u001b[38;5;28mprint\u001b[39m(\u001b[33m\"\u001b[39m\u001b[33mGET_SHEETS: sheetno =\u001b[39m\u001b[33m\"\u001b[39m, sheetno, \u001b[38;5;28mself\u001b[39m._sheet_names, \u001b[38;5;28mself\u001b[39m._sh_abs_posn, file=\u001b[38;5;28mself\u001b[39m.logfile)\n\u001b[32m--> \u001b[39m\u001b[32m722\u001b[39m     \u001b[38;5;28;43mself\u001b[39;49m\u001b[43m.\u001b[49m\u001b[43mget_sheet\u001b[49m\u001b[43m(\u001b[49m\u001b[43msheetno\u001b[49m\u001b[43m)\u001b[49m\n",
      "\u001b[36mFile \u001b[39m\u001b[32mc:\\Users\\olive\\AppData\\Local\\Programs\\Python\\Python313\\Lib\\site-packages\\xlrd\\book.py:713\u001b[39m, in \u001b[36mBook.get_sheet\u001b[39m\u001b[34m(self, sh_number, update_pos)\u001b[39m\n\u001b[32m    702\u001b[39m \u001b[38;5;66;03m# assert biff_version == self.biff_version ### FAILS\u001b[39;00m\n\u001b[32m    703\u001b[39m \u001b[38;5;66;03m# Have an example where book is v7 but sheet reports v8!!!\u001b[39;00m\n\u001b[32m    704\u001b[39m \u001b[38;5;66;03m# It appears to work OK if the sheet version is ignored.\u001b[39;00m\n\u001b[32m    705\u001b[39m \u001b[38;5;66;03m# Confirmed by Daniel Rentz: happens when Excel does \"save as\"\u001b[39;00m\n\u001b[32m    706\u001b[39m \u001b[38;5;66;03m# creating an old version file; ignore version details on sheet BOF.\u001b[39;00m\n\u001b[32m    707\u001b[39m sh = sheet.Sheet(\n\u001b[32m    708\u001b[39m     \u001b[38;5;28mself\u001b[39m,\n\u001b[32m    709\u001b[39m     \u001b[38;5;28mself\u001b[39m._position,\n\u001b[32m    710\u001b[39m     \u001b[38;5;28mself\u001b[39m._sheet_names[sh_number],\n\u001b[32m    711\u001b[39m     sh_number,\n\u001b[32m    712\u001b[39m )\n\u001b[32m--> \u001b[39m\u001b[32m713\u001b[39m \u001b[43msh\u001b[49m\u001b[43m.\u001b[49m\u001b[43mread\u001b[49m\u001b[43m(\u001b[49m\u001b[38;5;28;43mself\u001b[39;49m\u001b[43m)\u001b[49m\n\u001b[32m    714\u001b[39m \u001b[38;5;28mself\u001b[39m._sheet_list[sh_number] = sh\n\u001b[32m    715\u001b[39m \u001b[38;5;28;01mreturn\u001b[39;00m sh\n",
      "\u001b[36mFile \u001b[39m\u001b[32mc:\\Users\\olive\\AppData\\Local\\Programs\\Python\\Python313\\Lib\\site-packages\\xlrd\\sheet.py:828\u001b[39m, in \u001b[36mSheet.read\u001b[39m\u001b[34m(self, bk)\u001b[39m\n\u001b[32m    826\u001b[39m     self_put_cell(rowx, colx, \u001b[38;5;28;01mNone\u001b[39;00m, d, xf_index)\n\u001b[32m    827\u001b[39m \u001b[38;5;28;01melif\u001b[39;00m rc == XL_LABELSST:\n\u001b[32m--> \u001b[39m\u001b[32m828\u001b[39m     rowx, colx, xf_index, sstindex = \u001b[43mlocal_unpack\u001b[49m\u001b[43m(\u001b[49m\u001b[33;43m'\u001b[39;49m\u001b[33;43m<HHHi\u001b[39;49m\u001b[33;43m'\u001b[39;49m\u001b[43m,\u001b[49m\u001b[43m \u001b[49m\u001b[43mdata\u001b[49m\u001b[43m)\u001b[49m\n\u001b[32m    829\u001b[39m     \u001b[38;5;66;03m# print \"LABELSST\", rowx, colx, sstindex, bk._sharedstrings[sstindex]\u001b[39;00m\n\u001b[32m    830\u001b[39m     self_put_cell(rowx, colx, XL_CELL_TEXT, bk._sharedstrings[sstindex], xf_index)\n",
      "\u001b[31mKeyboardInterrupt\u001b[39m: "
     ]
    }
   ],
   "source": [
    "# Read data from Excel files and join vertically\n",
    "path = os.path.join(os.getcwd(), \"match data\")\n",
    "cols = ['Date', 'Series', 'Court', 'Surface', 'Round', 'Best of', 'Winner', 'Loser', 'WRank', 'LRank', 'WPts', 'LPts','Comment','B365W','B365L','PSW','PSL']\n",
    "df_list = [pd.read_excel(os.path.join(path, file)).reindex(columns=cols) for file in os.listdir(path)]\n",
    "df = pd.concat(df_list, ignore_index=True)"
   ]
  },
  {
   "cell_type": "code",
   "execution_count": null,
   "id": "1c2f0a23",
   "metadata": {},
   "outputs": [],
   "source": [
    "# Save working copy of df \n",
    "df_copy = df.copy()"
   ]
  },
  {
   "cell_type": "code",
   "execution_count": null,
   "id": "8f5bc372",
   "metadata": {},
   "outputs": [],
   "source": [
    "# Uncomment and run to reset df back to original state\n",
    "# df = df_copy"
   ]
  },
  {
   "cell_type": "code",
   "execution_count": null,
   "id": "f32e1708",
   "metadata": {},
   "outputs": [],
   "source": [
    "# Sort df by date\n",
    "df = df.sort_values(by='Date')"
   ]
  },
  {
   "cell_type": "code",
   "execution_count": null,
   "id": "4ecebeaa",
   "metadata": {},
   "outputs": [
    {
     "name": "stderr",
     "output_type": "stream",
     "text": [
      "C:\\Users\\olive\\AppData\\Local\\Temp\\ipykernel_20048\\1583458003.py:2: FutureWarning: DataFrame.applymap has been deprecated. Use DataFrame.map instead.\n",
      "  df = df.applymap(lambda x: x.strip() if isinstance(x, str) else x)\n"
     ]
    }
   ],
   "source": [
    "# Remove whitespace from df entries\n",
    "df = df.applymap(lambda x: x.strip() if isinstance(x, str) else x)"
   ]
  },
  {
   "cell_type": "code",
   "execution_count": null,
   "id": "26536653",
   "metadata": {},
   "outputs": [],
   "source": [
    "# Convert rank column values to floats\n",
    "df['WRank'] = pd.to_numeric(df['WRank'], errors='coerce')\n",
    "df['LRank'] = pd.to_numeric(df['LRank'], errors='coerce')"
   ]
  },
  {
   "cell_type": "code",
   "execution_count": null,
   "id": "58f2974b",
   "metadata": {},
   "outputs": [],
   "source": [
    "# Drop all matches that lack data, weren't completed or were played on carpet\n",
    "df = df.dropna()\n",
    "df = df[df['Comment'] == 'Completed']\n",
    "df = df[df['Surface'] != 'Carpet']\n",
    "df = df.reset_index(drop=True).drop(columns=['Comment'])"
   ]
  },
  {
   "cell_type": "code",
   "execution_count": null,
   "id": "6f13cc08",
   "metadata": {},
   "outputs": [],
   "source": [
    "# Convert winner/loser columns to neutral player columns (ordered alphabetically)\n",
    "player_A = df[['Winner','Loser']].min(axis=1)\n",
    "player_B = df[['Winner','Loser']].max(axis=1)"
   ]
  },
  {
   "cell_type": "code",
   "execution_count": null,
   "id": "cc785570",
   "metadata": {},
   "outputs": [],
   "source": [
    "# Create target variable\n",
    "A_won = df['Winner'] == player_A"
   ]
  },
  {
   "cell_type": "code",
   "execution_count": null,
   "id": "6a6b4df6",
   "metadata": {},
   "outputs": [],
   "source": [
    "# Update dataframe to reflect change to player columns\n",
    "# Add column for target variable in the process\n",
    "df[['Player A','Player B','A Rank','B Rank','A Pts','B Pts','A Bet365 Odds',\n",
    "    'B Bet365 Odds','A Pinnacle Odds','B Pinnacle Odds','A Won']] = pd.DataFrame({\n",
    "        'Player A': player_A,\n",
    "        'Player B': player_B,\n",
    "        'A Rank': df['WRank'].where(A_won, df['LRank']),\n",
    "        'B Rank': df['LRank'].where(A_won, df['WRank']),\n",
    "        'A Pts': df['WPts'].where(A_won, df['LPts']),\n",
    "        'B Pts': df['LPts'].where(A_won, df['WPts']),\n",
    "        'A Bet365 Odds': df['B365W'].where(A_won, df['B365L']),\n",
    "        'B Bet365 Odds': df['B365L'].where(A_won, df['B365W']),\n",
    "        'A Pinnacle Odds': df['PSW'].where(A_won, df['PSL']),\n",
    "        'B Pinnacle Odds': df['PSL'].where(A_won, df['PSW']),\n",
    "        'A Won': A_won.astype(int)\n",
    "    })\n",
    "df = df.drop(columns=['Winner','Loser','WRank','LRank','WPts','LPts','B365W','B365L','PSW','PSL'])"
   ]
  },
  {
   "cell_type": "code",
   "execution_count": null,
   "id": "c3393ba1",
   "metadata": {},
   "outputs": [],
   "source": [
    "# Change df to 'long' format where each row is a match from 1 player's perspective\n",
    "df_long_A = df.rename(columns={\"Player A\": \"Player\", \"Player B\": \"Opponent\"})\n",
    "df_long_A[\"Player Won\"] = df_long_A[\"A Won\"]\n",
    "df_long_B = df.rename(columns={\"Player B\": \"Player\", \"Player A\": \"Opponent\"})\n",
    "df_long_B[\"Player Won\"] = 1 - df_long_B[\"A Won\"]\n",
    "df_long = pd.concat([df_long_A, df_long_B], ignore_index=True)"
   ]
  },
  {
   "cell_type": "code",
   "execution_count": null,
   "id": "13332c21",
   "metadata": {},
   "outputs": [],
   "source": [
    "# Sort long df by date\n",
    "df_long = df_long.sort_values([\"Date\"]).reset_index(drop=True)"
   ]
  },
  {
   "cell_type": "code",
   "execution_count": null,
   "id": "d8223320",
   "metadata": {},
   "outputs": [],
   "source": [
    "# Add H2H winrate feature\n",
    "df_long[\"H2H Wins\"] = (\n",
    "    df_long.groupby([\"Player\", \"Opponent\"])[\"Player Won\"]\n",
    "           .transform(lambda x: x.shift().cumsum().fillna(0))\n",
    ")\n",
    "df_long['H2H Matches'] = df_long.groupby(['Player', 'Opponent'])['Player Won'].cumcount()\n",
    "df_long['H2H Winrate'] = df_long['H2H Wins'] / df_long['H2H Matches'].clip(lower=1)"
   ]
  },
  {
   "cell_type": "code",
   "execution_count": null,
   "id": "b5d8a099",
   "metadata": {},
   "outputs": [],
   "source": [
    "# Add 5 match winrate feature\n",
    "df_long[\"5 Match Winrate\"] = (\n",
    "    df_long.groupby(\"Player\")[\"Player Won\"]\n",
    "           .transform(lambda x: x.shift().rolling(5, min_periods=5).mean())\n",
    ")"
   ]
  },
  {
   "cell_type": "code",
   "execution_count": null,
   "id": "68e73499",
   "metadata": {},
   "outputs": [],
   "source": [
    "# Add 10 match winrate feature\n",
    "df_long[\"10 Match Winrate\"] = (\n",
    "    df_long.groupby(\"Player\")[\"Player Won\"]\n",
    "           .transform(lambda x: x.shift().rolling(10, min_periods=10).mean())\n",
    ")"
   ]
  },
  {
   "cell_type": "code",
   "execution_count": null,
   "id": "2fa65fa7",
   "metadata": {},
   "outputs": [],
   "source": [
    "# Add 20 match winrate feature\n",
    "df_long[\"20 Match Winrate\"] = (\n",
    "    df_long.groupby(\"Player\")[\"Player Won\"]\n",
    "           .transform(lambda x: x.shift().rolling(20, min_periods=20).mean())\n",
    ")"
   ]
  },
  {
   "cell_type": "code",
   "execution_count": null,
   "id": "09bf2b38",
   "metadata": {},
   "outputs": [],
   "source": [
    "# Add surface-specific winrate feature\n",
    "df_long[\"Surface Wins\"] = (\n",
    "    df_long.groupby([\"Player\",\"Surface\"])[\"Player Won\"]\n",
    "           .transform(lambda x: x.shift().cumsum().fillna(0))\n",
    ")\n",
    "df_long[\"Surface Matches\"] = df_long.groupby([\"Player\",\"Surface\"]).cumcount()\n",
    "df_long[\"Surface Winrate\"] = df_long[\"Surface Wins\"] / df_long[\"Surface Matches\"].clip(lower=1)"
   ]
  },
  {
   "cell_type": "code",
   "execution_count": null,
   "id": "661dbcc1",
   "metadata": {},
   "outputs": [],
   "source": [
    "# Add career winrate feature\n",
    "df_long[\"Career Wins\"] = (\n",
    "    df_long.groupby(\"Player\")[\"Player Won\"]\n",
    "           .transform(lambda x: x.shift().cumsum().fillna(0))\n",
    ")\n",
    "df_long[\"Career Matches\"] = df_long.groupby(\"Player\").cumcount()\n",
    "df_long[\"Career Winrate\"] = df_long[\"Career Wins\"] / df_long[\"Career Matches\"].clip(lower=1)"
   ]
  },
  {
   "cell_type": "code",
   "execution_count": null,
   "id": "68214e86",
   "metadata": {},
   "outputs": [],
   "source": [
    "# Add seasonal winrate feature\n",
    "df_long[\"Year\"] = df_long[\"Date\"].dt.year\n",
    "df_long[\"Season Wins\"] = (\n",
    "    df_long.groupby([\"Player\",\"Year\"])[\"Player Won\"]\n",
    "           .transform(lambda x: x.shift().cumsum().fillna(0))\n",
    ")\n",
    "df_long[\"Season Matches\"] = df_long.groupby([\"Player\",\"Year\"]).cumcount()\n",
    "df_long[\"Season Winrate\"] = df_long[\"Season Wins\"] / df_long[\"Season Matches\"].clip(lower=1)"
   ]
  },
  {
   "cell_type": "code",
   "execution_count": null,
   "id": "ef9aa14c",
   "metadata": {},
   "outputs": [],
   "source": [
    "# Add days since last match feature\n",
    "df_long[\"Days since last match\"] = (\n",
    "    df_long.groupby(\"Player\")[\"Date\"].diff().dt.days\n",
    ")"
   ]
  },
  {
   "cell_type": "code",
   "execution_count": null,
   "id": "d5226c06",
   "metadata": {},
   "outputs": [],
   "source": [
    "df_long_A = df_long.rename(columns={\n",
    "    \"Player\": \"Player A\",\n",
    "    \"Opponent\": \"Player B\",\n",
    "    \"H2H Winrate\": \"A H2H Winrate\",\n",
    "    \"5 Match Winrate\": \"A 5 Match Winrate\",\n",
    "    \"10 Match Winrate\": \"A 10 Match Winrate\",\n",
    "    \"20 Match Winrate\": \"A 20 Match Winrate\",\n",
    "    \"Surface Winrate\": \"A Surface Winrate\",\n",
    "    \"Career Winrate\": \"A Career Winrate\",\n",
    "    \"Season Winrate\": \"A Season Winrate\",\n",
    "    \"Surface Matches\": \"A Surface Matches\",\n",
    "    \"Career Matches\": \"A Career Matches\",\n",
    "    \"Season Matches\": \"A Season Matches\",\n",
    "    \"Days since last match\": \"A Days since last match\"\n",
    "})"
   ]
  },
  {
   "cell_type": "code",
   "execution_count": null,
   "id": "ce3a2974",
   "metadata": {},
   "outputs": [],
   "source": [
    "# Create long df for player B\n",
    "df_long_B = df_long.rename(columns={\n",
    "    \"Player\": \"Player B\",\n",
    "    \"Opponent\": \"Player A\",\n",
    "    \"H2H Winrate\": \"B H2H Winrate\",\n",
    "    \"5 Match Winrate\": \"B 5 Match Winrate\",\n",
    "    \"10 Match Winrate\": \"B 10 Match Winrate\",\n",
    "    \"20 Match Winrate\": \"B 20 Match Winrate\",\n",
    "    \"Surface Winrate\": \"B Surface Winrate\",\n",
    "    \"Career Winrate\": \"B Career Winrate\",\n",
    "    \"Season Winrate\": \"B Season Winrate\",\n",
    "    \"Surface Matches\": \"B Surface Matches\",\n",
    "    \"Career Matches\": \"B Career Matches\",\n",
    "    \"Season Matches\": \"B Season Matches\",\n",
    "    \"Days since last match\": \"B Days since last match\"\n",
    "})"
   ]
  },
  {
   "cell_type": "code",
   "execution_count": null,
   "id": "70086d17",
   "metadata": {},
   "outputs": [],
   "source": [
    "# Merge new features into original df\n",
    "# H2H matches is added only once as it is the same for both players\n",
    "df = (\n",
    "    df.merge(df_long_A[[\"Date\",\"Player A\",\"Player B\",\"A H2H Winrate\",\n",
    "                        \"A 5 Match Winrate\",\"A 10 Match Winrate\",\n",
    "                        \"A 20 Match Winrate\",\"A Surface Winrate\",\n",
    "                        \"A Career Winrate\",\"A Season Winrate\",\n",
    "                        \"A Surface Matches\",\"A Career Matches\",\n",
    "                        \"A Season Matches\",\"A Days since last match\"]],\n",
    "             on=[\"Date\",\"Player A\",\"Player B\"], how=\"left\")\n",
    "      .merge(df_long_B[[\"Date\",\"Player A\",\"Player B\",\"B H2H Winrate\",\n",
    "                        \"B 5 Match Winrate\",\"B 10 Match Winrate\",\n",
    "                        \"B 20 Match Winrate\",\"B Surface Winrate\",\n",
    "                        \"B Career Winrate\",\"B Season Winrate\",\n",
    "                        \"B Surface Matches\",\"B Career Matches\",\n",
    "                        \"B Season Matches\",\"B Days since last match\",\n",
    "                        \"H2H Matches\"]],\n",
    "             on=[\"Date\",\"Player A\",\"Player B\"], how=\"left\")\n",
    ")"
   ]
  },
  {
   "cell_type": "code",
   "execution_count": null,
   "id": "67c43443",
   "metadata": {},
   "outputs": [],
   "source": [
    "# Add elo features\n",
    "df = add_elos(df)"
   ]
  },
  {
   "cell_type": "code",
   "execution_count": null,
   "id": "5a414e61",
   "metadata": {},
   "outputs": [],
   "source": [
    "# Convert date column to year and month columns\n",
    "df['Date'] = pd.to_datetime(df['Date'], format='%Y-%m-%d')\n",
    "df['Month'] = df['Date'].dt.month\n",
    "df['Year'] = df['Date'].dt.year\n",
    "df = df.drop(columns=['Date'])"
   ]
  },
  {
   "cell_type": "code",
   "execution_count": null,
   "id": "8dccfadd",
   "metadata": {},
   "outputs": [],
   "source": [
    "# Remove player features\n",
    "df = df.drop(columns=[\"Player A\", \"Player B\"])"
   ]
  },
  {
   "cell_type": "code",
   "execution_count": null,
   "id": "80faa62a",
   "metadata": {},
   "outputs": [],
   "source": [
    "# One-hot encode categorical variables\n",
    "df = pd.get_dummies(df, columns=['Series', 'Court', 'Surface', 'Round'], dtype=int)"
   ]
  },
  {
   "cell_type": "code",
   "execution_count": null,
   "id": "d9b17294",
   "metadata": {},
   "outputs": [],
   "source": [
    "df.to_csv(\"df.csv\", index=False)"
   ]
  }
 ],
 "metadata": {
  "kernelspec": {
   "display_name": "Python 3",
   "language": "python",
   "name": "python3"
  },
  "language_info": {
   "codemirror_mode": {
    "name": "ipython",
    "version": 3
   },
   "file_extension": ".py",
   "mimetype": "text/x-python",
   "name": "python",
   "nbconvert_exporter": "python",
   "pygments_lexer": "ipython3",
   "version": "3.13.5"
  }
 },
 "nbformat": 4,
 "nbformat_minor": 5
}
