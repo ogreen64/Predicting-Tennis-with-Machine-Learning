{
 "cells": [
  {
   "cell_type": "code",
   "execution_count": 1,
   "id": "236bcc72",
   "metadata": {},
   "outputs": [],
   "source": [
    "import pandas as pd\n",
    "import os\n",
    "from elo import add_elos"
   ]
  },
  {
   "cell_type": "code",
   "execution_count": 2,
   "id": "b69c4a0d",
   "metadata": {},
   "outputs": [
    {
     "name": "stderr",
     "output_type": "stream",
     "text": [
      "c:\\Users\\olive\\AppData\\Local\\Programs\\Python\\Python313\\Lib\\site-packages\\openpyxl\\worksheet\\_reader.py:329: UserWarning: Unknown extension is not supported and will be removed\n",
      "  warn(msg)\n",
      "c:\\Users\\olive\\AppData\\Local\\Programs\\Python\\Python313\\Lib\\site-packages\\openpyxl\\worksheet\\_reader.py:329: UserWarning: Unknown extension is not supported and will be removed\n",
      "  warn(msg)\n",
      "c:\\Users\\olive\\AppData\\Local\\Programs\\Python\\Python313\\Lib\\site-packages\\openpyxl\\worksheet\\_reader.py:329: UserWarning: Unknown extension is not supported and will be removed\n",
      "  warn(msg)\n",
      "c:\\Users\\olive\\AppData\\Local\\Programs\\Python\\Python313\\Lib\\site-packages\\openpyxl\\worksheet\\_reader.py:329: UserWarning: Unknown extension is not supported and will be removed\n",
      "  warn(msg)\n"
     ]
    }
   ],
   "source": [
    "# Read data from Excel files and join vertically\n",
    "path = os.path.join(os.getcwd(), \"match data\")\n",
    "cols = ['Date', 'Series', 'Court', 'Surface', 'Round', 'Best of', 'Winner', 'Loser', 'WRank', 'LRank', 'WPts', 'LPts','Comment','B365W','B365L','PSW','PSL']\n",
    "df_list = [pd.read_excel(os.path.join(path, file)).reindex(columns=cols) for file in os.listdir(path)]\n",
    "df = pd.concat(df_list, ignore_index=True)"
   ]
  },
  {
   "cell_type": "code",
   "execution_count": 3,
   "id": "1c2f0a23",
   "metadata": {},
   "outputs": [],
   "source": [
    "# Save working copy of df \n",
    "df_copy = df.copy()"
   ]
  },
  {
   "cell_type": "code",
   "execution_count": 4,
   "id": "8f5bc372",
   "metadata": {},
   "outputs": [],
   "source": [
    "# Uncomment and run to reset df back to original state\n",
    "# df = df_copy"
   ]
  },
  {
   "cell_type": "code",
   "execution_count": 5,
   "id": "f32e1708",
   "metadata": {},
   "outputs": [],
   "source": [
    "# Sort df by date\n",
    "df = df.sort_values(by='Date')"
   ]
  },
  {
   "cell_type": "code",
   "execution_count": 6,
   "id": "4ecebeaa",
   "metadata": {},
   "outputs": [
    {
     "name": "stderr",
     "output_type": "stream",
     "text": [
      "C:\\Users\\olive\\AppData\\Local\\Temp\\ipykernel_8848\\1583458003.py:2: FutureWarning: DataFrame.applymap has been deprecated. Use DataFrame.map instead.\n",
      "  df = df.applymap(lambda x: x.strip() if isinstance(x, str) else x)\n"
     ]
    }
   ],
   "source": [
    "# Remove whitespace from df entries\n",
    "df = df.applymap(lambda x: x.strip() if isinstance(x, str) else x)"
   ]
  },
  {
   "cell_type": "code",
   "execution_count": 7,
   "id": "26536653",
   "metadata": {},
   "outputs": [],
   "source": [
    "# Convert rank column values to floats\n",
    "df['WRank'] = pd.to_numeric(df['WRank'], errors='coerce')\n",
    "df['LRank'] = pd.to_numeric(df['LRank'], errors='coerce')"
   ]
  },
  {
   "cell_type": "code",
   "execution_count": 8,
   "id": "58f2974b",
   "metadata": {},
   "outputs": [],
   "source": [
    "# Drop all matches that lack data, weren't completed or were played on carpet\n",
    "df = df.dropna()\n",
    "df = df[df['Comment'] == 'Completed']\n",
    "df = df[df['Surface'] != 'Carpet']\n",
    "df = df.reset_index(drop=True).drop(columns=['Comment'])"
   ]
  },
  {
   "cell_type": "code",
   "execution_count": 9,
   "id": "6f13cc08",
   "metadata": {},
   "outputs": [],
   "source": [
    "# Convert winner/loser columns to neutral player columns (ordered alphabetically)\n",
    "player_A = df[['Winner','Loser']].min(axis=1)\n",
    "player_B = df[['Winner','Loser']].max(axis=1)"
   ]
  },
  {
   "cell_type": "code",
   "execution_count": 10,
   "id": "cc785570",
   "metadata": {},
   "outputs": [],
   "source": [
    "# Create target variable\n",
    "A_won = df['Winner'] == player_A"
   ]
  },
  {
   "cell_type": "code",
   "execution_count": 11,
   "id": "6a6b4df6",
   "metadata": {},
   "outputs": [],
   "source": [
    "# Update dataframe to reflect change to player columns\n",
    "# Add column for target variable in the process\n",
    "df[['Player A','Player B','A Rank','B Rank','A Pts','B Pts','A Bet365 Odds',\n",
    "    'B Bet365 Odds','A Pinnacle Odds','B Pinnacle Odds','A Won']] = pd.DataFrame({\n",
    "        'Player A': player_A,\n",
    "        'Player B': player_B,\n",
    "        'A Rank': df['WRank'].where(A_won, df['LRank']),\n",
    "        'B Rank': df['LRank'].where(A_won, df['WRank']),\n",
    "        'A Pts': df['WPts'].where(A_won, df['LPts']),\n",
    "        'B Pts': df['LPts'].where(A_won, df['WPts']),\n",
    "        'A Bet365 Odds': df['B365W'].where(A_won, df['B365L']),\n",
    "        'B Bet365 Odds': df['B365L'].where(A_won, df['B365W']),\n",
    "        'A Pinnacle Odds': df['PSW'].where(A_won, df['PSL']),\n",
    "        'B Pinnacle Odds': df['PSL'].where(A_won, df['PSW']),\n",
    "        'A Won': A_won.astype(int)\n",
    "    })\n",
    "df = df.drop(columns=['Winner','Loser','WRank','LRank','WPts','LPts','B365W','B365L','PSW','PSL'])"
   ]
  },
  {
   "cell_type": "code",
   "execution_count": 12,
   "id": "c3393ba1",
   "metadata": {},
   "outputs": [],
   "source": [
    "# Change df to 'long' format where each row is a match from 1 player's perspective\n",
    "df_long_A = df.rename(columns={\"Player A\": \"Player\", \"Player B\": \"Opponent\"})\n",
    "df_long_A[\"Player Won\"] = df_long_A[\"A Won\"]\n",
    "df_long_B = df.rename(columns={\"Player B\": \"Player\", \"Player A\": \"Opponent\"})\n",
    "df_long_B[\"Player Won\"] = 1 - df_long_B[\"A Won\"]\n",
    "df_long = pd.concat([df_long_A, df_long_B], ignore_index=True)"
   ]
  },
  {
   "cell_type": "code",
   "execution_count": 13,
   "id": "13332c21",
   "metadata": {},
   "outputs": [],
   "source": [
    "# Sort long df by date\n",
    "df_long = df_long.sort_values([\"Date\"]).reset_index(drop=True)"
   ]
  },
  {
   "cell_type": "code",
   "execution_count": 14,
   "id": "d8223320",
   "metadata": {},
   "outputs": [],
   "source": [
    "# Add H2H winrate feature\n",
    "df_long[\"H2H Wins\"] = (\n",
    "    df_long.groupby([\"Player\", \"Opponent\"])[\"Player Won\"]\n",
    "           .transform(lambda x: x.shift().cumsum().fillna(0))\n",
    ")\n",
    "df_long['H2H Matches'] = df_long.groupby(['Player', 'Opponent'])['Player Won'].cumcount()\n",
    "df_long['H2H Winrate'] = df_long['H2H Wins'] / df_long['H2H Matches'].clip(lower=1)"
   ]
  },
  {
   "cell_type": "code",
   "execution_count": 15,
   "id": "b5d8a099",
   "metadata": {},
   "outputs": [],
   "source": [
    "# Add 5 match winrate feature\n",
    "df_long[\"5 Match Winrate\"] = (\n",
    "    df_long.groupby(\"Player\")[\"Player Won\"]\n",
    "           .transform(lambda x: x.shift().rolling(5, min_periods=5).mean())\n",
    ")"
   ]
  },
  {
   "cell_type": "code",
   "execution_count": 16,
   "id": "68e73499",
   "metadata": {},
   "outputs": [],
   "source": [
    "# Add 10 match winrate feature\n",
    "df_long[\"10 Match Winrate\"] = (\n",
    "    df_long.groupby(\"Player\")[\"Player Won\"]\n",
    "           .transform(lambda x: x.shift().rolling(10, min_periods=10).mean())\n",
    ")"
   ]
  },
  {
   "cell_type": "code",
   "execution_count": 17,
   "id": "2fa65fa7",
   "metadata": {},
   "outputs": [],
   "source": [
    "# Add 20 match winrate feature\n",
    "df_long[\"20 Match Winrate\"] = (\n",
    "    df_long.groupby(\"Player\")[\"Player Won\"]\n",
    "           .transform(lambda x: x.shift().rolling(20, min_periods=20).mean())\n",
    ")"
   ]
  },
  {
   "cell_type": "code",
   "execution_count": 18,
   "id": "09bf2b38",
   "metadata": {},
   "outputs": [],
   "source": [
    "# Add surface-specific winrate feature\n",
    "df_long[\"Surface Wins\"] = (\n",
    "    df_long.groupby([\"Player\",\"Surface\"])[\"Player Won\"]\n",
    "           .transform(lambda x: x.shift().cumsum().fillna(0))\n",
    ")\n",
    "df_long[\"Surface Matches\"] = df_long.groupby([\"Player\",\"Surface\"]).cumcount()\n",
    "df_long[\"Surface Winrate\"] = df_long[\"Surface Wins\"] / df_long[\"Surface Matches\"].clip(lower=1)"
   ]
  },
  {
   "cell_type": "code",
   "execution_count": 19,
   "id": "661dbcc1",
   "metadata": {},
   "outputs": [],
   "source": [
    "# Add career winrate feature\n",
    "df_long[\"Career Wins\"] = (\n",
    "    df_long.groupby(\"Player\")[\"Player Won\"]\n",
    "           .transform(lambda x: x.shift().cumsum().fillna(0))\n",
    ")\n",
    "df_long[\"Career Matches\"] = df_long.groupby(\"Player\").cumcount()\n",
    "df_long[\"Career Winrate\"] = df_long[\"Career Wins\"] / df_long[\"Career Matches\"].clip(lower=1)"
   ]
  },
  {
   "cell_type": "code",
   "execution_count": 20,
   "id": "68214e86",
   "metadata": {},
   "outputs": [],
   "source": [
    "# Add seasonal winrate feature\n",
    "df_long[\"Year\"] = df_long[\"Date\"].dt.year\n",
    "df_long[\"Season Wins\"] = (\n",
    "    df_long.groupby([\"Player\",\"Year\"])[\"Player Won\"]\n",
    "           .transform(lambda x: x.shift().cumsum().fillna(0))\n",
    ")\n",
    "df_long[\"Season Matches\"] = df_long.groupby([\"Player\",\"Year\"]).cumcount()\n",
    "df_long[\"Season Winrate\"] = df_long[\"Season Wins\"] / df_long[\"Season Matches\"].clip(lower=1)"
   ]
  },
  {
   "cell_type": "code",
   "execution_count": 21,
   "id": "ef9aa14c",
   "metadata": {},
   "outputs": [],
   "source": [
    "# Add days since last match feature\n",
    "df_long[\"Days since last match\"] = (\n",
    "    df_long.groupby(\"Player\")[\"Date\"].diff().dt.days\n",
    ")"
   ]
  },
  {
   "cell_type": "code",
   "execution_count": 22,
   "id": "d5226c06",
   "metadata": {},
   "outputs": [],
   "source": [
    "df_long_A = df_long.rename(columns={\n",
    "    \"Player\": \"Player A\",\n",
    "    \"Opponent\": \"Player B\",\n",
    "    \"H2H Winrate\": \"A H2H Winrate\",\n",
    "    \"5 Match Winrate\": \"A 5 Match Winrate\",\n",
    "    \"10 Match Winrate\": \"A 10 Match Winrate\",\n",
    "    \"20 Match Winrate\": \"A 20 Match Winrate\",\n",
    "    \"Surface Winrate\": \"A Surface Winrate\",\n",
    "    \"Career Winrate\": \"A Career Winrate\",\n",
    "    \"Season Winrate\": \"A Season Winrate\",\n",
    "    \"Surface Matches\": \"A Surface Matches\",\n",
    "    \"Career Matches\": \"A Career Matches\",\n",
    "    \"Season Matches\": \"A Season Matches\",\n",
    "    \"Days since last match\": \"A Days since last match\"\n",
    "})"
   ]
  },
  {
   "cell_type": "code",
   "execution_count": 23,
   "id": "ce3a2974",
   "metadata": {},
   "outputs": [],
   "source": [
    "# Create long df for player B\n",
    "df_long_B = df_long.rename(columns={\n",
    "    \"Player\": \"Player B\",\n",
    "    \"Opponent\": \"Player A\",\n",
    "    \"H2H Winrate\": \"B H2H Winrate\",\n",
    "    \"5 Match Winrate\": \"B 5 Match Winrate\",\n",
    "    \"10 Match Winrate\": \"B 10 Match Winrate\",\n",
    "    \"20 Match Winrate\": \"B 20 Match Winrate\",\n",
    "    \"Surface Winrate\": \"B Surface Winrate\",\n",
    "    \"Career Winrate\": \"B Career Winrate\",\n",
    "    \"Season Winrate\": \"B Season Winrate\",\n",
    "    \"Surface Matches\": \"B Surface Matches\",\n",
    "    \"Career Matches\": \"B Career Matches\",\n",
    "    \"Season Matches\": \"B Season Matches\",\n",
    "    \"Days since last match\": \"B Days since last match\"\n",
    "})"
   ]
  },
  {
   "cell_type": "code",
   "execution_count": 24,
   "id": "70086d17",
   "metadata": {},
   "outputs": [],
   "source": [
    "# Merge new features into original df\n",
    "# H2H matches is added only once as it is the same for both players\n",
    "df = (\n",
    "    df.merge(df_long_A[[\"Date\",\"Player A\",\"Player B\",\"A H2H Winrate\",\n",
    "                        \"A 5 Match Winrate\",\"A 10 Match Winrate\",\n",
    "                        \"A 20 Match Winrate\",\"A Surface Winrate\",\n",
    "                        \"A Career Winrate\",\"A Season Winrate\",\n",
    "                        \"A Surface Matches\",\"A Career Matches\",\n",
    "                        \"A Season Matches\",\"A Days since last match\"]],\n",
    "             on=[\"Date\",\"Player A\",\"Player B\"], how=\"left\")\n",
    "      .merge(df_long_B[[\"Date\",\"Player A\",\"Player B\",\"B H2H Winrate\",\n",
    "                        \"B 5 Match Winrate\",\"B 10 Match Winrate\",\n",
    "                        \"B 20 Match Winrate\",\"B Surface Winrate\",\n",
    "                        \"B Career Winrate\",\"B Season Winrate\",\n",
    "                        \"B Surface Matches\",\"B Career Matches\",\n",
    "                        \"B Season Matches\",\"B Days since last match\",\n",
    "                        \"H2H Matches\"]],\n",
    "             on=[\"Date\",\"Player A\",\"Player B\"], how=\"left\")\n",
    ")"
   ]
  },
  {
   "cell_type": "code",
   "execution_count": 25,
   "id": "67c43443",
   "metadata": {},
   "outputs": [],
   "source": [
    "# Add elo features\n",
    "df = add_elos(df)"
   ]
  },
  {
   "cell_type": "code",
   "execution_count": 26,
   "id": "5a414e61",
   "metadata": {},
   "outputs": [],
   "source": [
    "# Convert date column to year and month columns\n",
    "df['Date'] = pd.to_datetime(df['Date'], format='%Y-%m-%d')\n",
    "df['Month'] = df['Date'].dt.month\n",
    "df['Year'] = df['Date'].dt.year\n",
    "df = df.drop(columns=['Date'])"
   ]
  },
  {
   "cell_type": "code",
   "execution_count": 27,
   "id": "8dccfadd",
   "metadata": {},
   "outputs": [],
   "source": [
    "# Remove player features\n",
    "df = df.drop(columns=[\"Player A\", \"Player B\"])"
   ]
  },
  {
   "cell_type": "code",
   "execution_count": 28,
   "id": "80faa62a",
   "metadata": {},
   "outputs": [],
   "source": [
    "# One-hot encode categorical variables\n",
    "df = pd.get_dummies(df, columns=['Series', 'Court', 'Surface', 'Round'], dtype=int)"
   ]
  },
  {
   "cell_type": "code",
   "execution_count": 29,
   "id": "d9b17294",
   "metadata": {},
   "outputs": [],
   "source": [
    "df.to_csv(\"df.csv\", index=False)"
   ]
  }
 ],
 "metadata": {
  "kernelspec": {
   "display_name": "Python 3",
   "language": "python",
   "name": "python3"
  },
  "language_info": {
   "codemirror_mode": {
    "name": "ipython",
    "version": 3
   },
   "file_extension": ".py",
   "mimetype": "text/x-python",
   "name": "python",
   "nbconvert_exporter": "python",
   "pygments_lexer": "ipython3",
   "version": "3.13.5"
  }
 },
 "nbformat": 4,
 "nbformat_minor": 5
}
